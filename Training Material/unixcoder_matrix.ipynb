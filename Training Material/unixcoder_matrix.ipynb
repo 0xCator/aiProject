{
  "nbformat": 4,
  "nbformat_minor": 0,
  "metadata": {
    "colab": {
      "provenance": [],
      "gpuType": "T4"
    },
    "kernelspec": {
      "name": "python3",
      "display_name": "Python 3"
    },
    "language_info": {
      "name": "python"
    },
    "accelerator": "GPU"
  },
  "cells": [
    {
      "cell_type": "code",
      "execution_count": 16,
      "metadata": {
        "colab": {
          "base_uri": "https://localhost:8080/"
        },
        "id": "M8SRYk7EYpgq",
        "outputId": "f4daaf21-fef4-4dd2-cf1c-666fffb9783c"
      },
      "outputs": [
        {
          "output_type": "stream",
          "name": "stdout",
          "text": [
            "Requirement already satisfied: transformers in /usr/local/lib/python3.10/dist-packages (4.46.3)\n",
            "Requirement already satisfied: datasets in /usr/local/lib/python3.10/dist-packages (3.2.0)\n",
            "Requirement already satisfied: scikit-learn in /usr/local/lib/python3.10/dist-packages (1.5.2)\n",
            "Requirement already satisfied: filelock in /usr/local/lib/python3.10/dist-packages (from transformers) (3.16.1)\n",
            "Requirement already satisfied: huggingface-hub<1.0,>=0.23.2 in /usr/local/lib/python3.10/dist-packages (from transformers) (0.26.5)\n",
            "Requirement already satisfied: numpy>=1.17 in /usr/local/lib/python3.10/dist-packages (from transformers) (1.26.4)\n",
            "Requirement already satisfied: packaging>=20.0 in /usr/local/lib/python3.10/dist-packages (from transformers) (24.2)\n",
            "Requirement already satisfied: pyyaml>=5.1 in /usr/local/lib/python3.10/dist-packages (from transformers) (6.0.2)\n",
            "Requirement already satisfied: regex!=2019.12.17 in /usr/local/lib/python3.10/dist-packages (from transformers) (2024.9.11)\n",
            "Requirement already satisfied: requests in /usr/local/lib/python3.10/dist-packages (from transformers) (2.32.3)\n",
            "Requirement already satisfied: tokenizers<0.21,>=0.20 in /usr/local/lib/python3.10/dist-packages (from transformers) (0.20.3)\n",
            "Requirement already satisfied: safetensors>=0.4.1 in /usr/local/lib/python3.10/dist-packages (from transformers) (0.4.5)\n",
            "Requirement already satisfied: tqdm>=4.27 in /usr/local/lib/python3.10/dist-packages (from transformers) (4.66.6)\n",
            "Requirement already satisfied: pyarrow>=15.0.0 in /usr/local/lib/python3.10/dist-packages (from datasets) (17.0.0)\n",
            "Requirement already satisfied: dill<0.3.9,>=0.3.0 in /usr/local/lib/python3.10/dist-packages (from datasets) (0.3.8)\n",
            "Requirement already satisfied: pandas in /usr/local/lib/python3.10/dist-packages (from datasets) (2.2.2)\n",
            "Requirement already satisfied: xxhash in /usr/local/lib/python3.10/dist-packages (from datasets) (3.5.0)\n",
            "Requirement already satisfied: multiprocess<0.70.17 in /usr/local/lib/python3.10/dist-packages (from datasets) (0.70.16)\n",
            "Requirement already satisfied: fsspec<=2024.9.0,>=2023.1.0 in /usr/local/lib/python3.10/dist-packages (from fsspec[http]<=2024.9.0,>=2023.1.0->datasets) (2024.9.0)\n",
            "Requirement already satisfied: aiohttp in /usr/local/lib/python3.10/dist-packages (from datasets) (3.11.10)\n",
            "Requirement already satisfied: scipy>=1.6.0 in /usr/local/lib/python3.10/dist-packages (from scikit-learn) (1.13.1)\n",
            "Requirement already satisfied: joblib>=1.2.0 in /usr/local/lib/python3.10/dist-packages (from scikit-learn) (1.4.2)\n",
            "Requirement already satisfied: threadpoolctl>=3.1.0 in /usr/local/lib/python3.10/dist-packages (from scikit-learn) (3.5.0)\n",
            "Requirement already satisfied: aiohappyeyeballs>=2.3.0 in /usr/local/lib/python3.10/dist-packages (from aiohttp->datasets) (2.4.4)\n",
            "Requirement already satisfied: aiosignal>=1.1.2 in /usr/local/lib/python3.10/dist-packages (from aiohttp->datasets) (1.3.1)\n",
            "Requirement already satisfied: async-timeout<6.0,>=4.0 in /usr/local/lib/python3.10/dist-packages (from aiohttp->datasets) (4.0.3)\n",
            "Requirement already satisfied: attrs>=17.3.0 in /usr/local/lib/python3.10/dist-packages (from aiohttp->datasets) (24.2.0)\n",
            "Requirement already satisfied: frozenlist>=1.1.1 in /usr/local/lib/python3.10/dist-packages (from aiohttp->datasets) (1.5.0)\n",
            "Requirement already satisfied: multidict<7.0,>=4.5 in /usr/local/lib/python3.10/dist-packages (from aiohttp->datasets) (6.1.0)\n",
            "Requirement already satisfied: propcache>=0.2.0 in /usr/local/lib/python3.10/dist-packages (from aiohttp->datasets) (0.2.1)\n",
            "Requirement already satisfied: yarl<2.0,>=1.17.0 in /usr/local/lib/python3.10/dist-packages (from aiohttp->datasets) (1.18.3)\n",
            "Requirement already satisfied: typing-extensions>=3.7.4.3 in /usr/local/lib/python3.10/dist-packages (from huggingface-hub<1.0,>=0.23.2->transformers) (4.12.2)\n",
            "Requirement already satisfied: charset-normalizer<4,>=2 in /usr/local/lib/python3.10/dist-packages (from requests->transformers) (3.4.0)\n",
            "Requirement already satisfied: idna<4,>=2.5 in /usr/local/lib/python3.10/dist-packages (from requests->transformers) (3.10)\n",
            "Requirement already satisfied: urllib3<3,>=1.21.1 in /usr/local/lib/python3.10/dist-packages (from requests->transformers) (2.2.3)\n",
            "Requirement already satisfied: certifi>=2017.4.17 in /usr/local/lib/python3.10/dist-packages (from requests->transformers) (2024.8.30)\n",
            "Requirement already satisfied: python-dateutil>=2.8.2 in /usr/local/lib/python3.10/dist-packages (from pandas->datasets) (2.8.2)\n",
            "Requirement already satisfied: pytz>=2020.1 in /usr/local/lib/python3.10/dist-packages (from pandas->datasets) (2024.2)\n",
            "Requirement already satisfied: tzdata>=2022.7 in /usr/local/lib/python3.10/dist-packages (from pandas->datasets) (2024.2)\n",
            "Requirement already satisfied: six>=1.5 in /usr/local/lib/python3.10/dist-packages (from python-dateutil>=2.8.2->pandas->datasets) (1.17.0)\n"
          ]
        }
      ],
      "source": [
        "!pip install transformers datasets scikit-learn"
      ]
    },
    {
      "cell_type": "code",
      "source": [
        "from datasets import load_dataset\n",
        "\n",
        "data_files = {\"train\": \"/content/drive/MyDrive/ColabWork/Inputs/train.csv\", \"test\": \"/content/drive/MyDrive/ColabWork/Inputs/test.csv\"}\n",
        "dataset = load_dataset('csv', data_files=data_files)\n",
        "dataset"
      ],
      "metadata": {
        "colab": {
          "base_uri": "https://localhost:8080/"
        },
        "id": "AuaeGAuAYuqp",
        "outputId": "c36f5b30-933d-4fc2-8e57-a8a0af363efd"
      },
      "execution_count": 17,
      "outputs": [
        {
          "output_type": "execute_result",
          "data": {
            "text/plain": [
              "DatasetDict({\n",
              "    train: Dataset({\n",
              "        features: ['code', 'godclass', 'dataclass', 'featureenvy', 'longmethod', 'longparamlist'],\n",
              "        num_rows: 26548\n",
              "    })\n",
              "    test: Dataset({\n",
              "        features: ['code', 'godclass', 'dataclass', 'featureenvy', 'longmethod', 'longparamlist'],\n",
              "        num_rows: 6637\n",
              "    })\n",
              "})"
            ]
          },
          "metadata": {},
          "execution_count": 17
        }
      ]
    },
    {
      "cell_type": "code",
      "source": [
        "labels = [label for label in dataset['train'].features.keys() if label not in ['code']]\n",
        "labels"
      ],
      "metadata": {
        "colab": {
          "base_uri": "https://localhost:8080/"
        },
        "id": "DK38fjGFYwLh",
        "outputId": "b76f02fc-09dd-4c08-8cf6-0dc115791f3e"
      },
      "execution_count": 19,
      "outputs": [
        {
          "output_type": "execute_result",
          "data": {
            "text/plain": [
              "['godclass', 'dataclass', 'featureenvy', 'longmethod', 'longparamlist']"
            ]
          },
          "metadata": {},
          "execution_count": 19
        }
      ]
    },
    {
      "cell_type": "code",
      "source": [
        "from transformers import RobertaTokenizer\n",
        "import numpy as np\n",
        "\n",
        "model_name = \"microsoft/unixcoder-base\"\n",
        "\n",
        "tokenizer = RobertaTokenizer.from_pretrained(model_name)\n",
        "\n",
        "def tokenize_function(examples):\n",
        "    code = examples['code']\n",
        "    tokens = tokenizer(code, padding=\"max_length\", truncation=True, max_length=128)\n",
        "    labels_batch = {k: examples[k] for k in examples.keys() if k in labels}\n",
        "    labels_matrix = np.zeros((len(code), len(labels)))\n",
        "    for idx, label in enumerate(labels):\n",
        "        labels_matrix[:, idx] = labels_batch[label]\n",
        "\n",
        "    tokens['labels'] = labels_matrix.tolist()\n",
        "\n",
        "    return tokens"
      ],
      "metadata": {
        "id": "Jgm5UqDoYx0p"
      },
      "execution_count": 20,
      "outputs": []
    },
    {
      "cell_type": "code",
      "source": [
        "encoded_dataset = dataset.map(tokenize_function, batched=True, remove_columns=dataset['train'].column_names)\n",
        "encoded_dataset.set_format(\"torch\")"
      ],
      "metadata": {
        "id": "lVREmWwFYz9N"
      },
      "execution_count": 21,
      "outputs": []
    },
    {
      "cell_type": "code",
      "source": [
        "from transformers import AutoModelForSequenceClassification\n",
        "import torch\n",
        "\n",
        "device = torch.device(\"cuda\" if torch.cuda.is_available() else \"cpu\")\n",
        "model = AutoModelForSequenceClassification.from_pretrained(model_name,\n",
        "                                                           problem_type=\"multi_label_classification\",\n",
        "                                                           num_labels=len(labels)).to(device)"
      ],
      "metadata": {
        "colab": {
          "base_uri": "https://localhost:8080/"
        },
        "id": "Bc7mOgIXY2v8",
        "outputId": "4f3b1469-702c-437b-9562-dfb365094d2e"
      },
      "execution_count": 22,
      "outputs": [
        {
          "output_type": "stream",
          "name": "stderr",
          "text": [
            "Some weights of RobertaForSequenceClassification were not initialized from the model checkpoint at microsoft/unixcoder-base and are newly initialized: ['classifier.dense.bias', 'classifier.dense.weight', 'classifier.out_proj.bias', 'classifier.out_proj.weight']\n",
            "You should probably TRAIN this model on a down-stream task to be able to use it for predictions and inference.\n"
          ]
        }
      ]
    },
    {
      "cell_type": "code",
      "source": [
        "from transformers import TrainingArguments, Trainer\n",
        "\n",
        "training_args = TrainingArguments(\n",
        "    output_dir=\"./results_multilabel\",\n",
        "    eval_strategy=\"epoch\",\n",
        "    learning_rate=2e-5,\n",
        "    per_device_train_batch_size=16,\n",
        "    per_device_eval_batch_size=16,\n",
        "    num_train_epochs=3,\n",
        "    weight_decay=0.01,\n",
        ")"
      ],
      "metadata": {
        "id": "z7BkBRl3Y6tM"
      },
      "execution_count": 23,
      "outputs": []
    },
    {
      "cell_type": "code",
      "source": [
        "from sklearn.metrics import f1_score, accuracy_score\n",
        "import sklearn.metrics as mt\n",
        "import torch\n",
        "from transformers import EvalPrediction\n",
        "\n",
        "# source: https://jesusleal.io/2021/04/21/Longformer-multilabel-classification/\n",
        "def multi_label_metrics(predictions, labels, threshold=0.5):\n",
        "    # first, apply sigmoid on predictions which are of shape (batch_size, num_labels)\n",
        "    sigmoid = torch.nn.Sigmoid()\n",
        "    probs = sigmoid(torch.Tensor(predictions))\n",
        "    # next, use threshold to turn them into integer predictions\n",
        "    y_pred = np.zeros(probs.shape)\n",
        "    y_pred[np.where(probs >= threshold)] = 1\n",
        "    # finally, compute metrics\n",
        "    y_true = labels\n",
        "    f1_micro_average = f1_score(y_true=y_true, y_pred=y_pred, average='micro')\n",
        "    accuracy = accuracy_score(y_true, y_pred)\n",
        "\n",
        "    # return as dictionary\n",
        "    metrics = {'f1': f1_micro_average,\n",
        "               'accuracy': accuracy}\n",
        "    return metrics\n",
        "\n",
        "def compute_metrics(p: EvalPrediction):\n",
        "    preds = p.predictions[0] if isinstance(p.predictions,\n",
        "            tuple) else p.predictions\n",
        "    result = multi_label_metrics(\n",
        "        predictions=preds,\n",
        "        labels=p.label_ids)\n",
        "    return result"
      ],
      "metadata": {
        "id": "AB8sK_z1Y8VK"
      },
      "execution_count": 24,
      "outputs": []
    },
    {
      "cell_type": "code",
      "source": [
        "trainer = Trainer(\n",
        "    model,\n",
        "    training_args,\n",
        "    train_dataset=encoded_dataset[\"train\"],\n",
        "    eval_dataset=encoded_dataset[\"test\"],\n",
        "    tokenizer=tokenizer,\n",
        "    compute_metrics=compute_metrics,\n",
        "    optimizers=(torch.optim.AdamW(model.parameters(), lr=training_args.learning_rate), None)\n",
        ")"
      ],
      "metadata": {
        "colab": {
          "base_uri": "https://localhost:8080/"
        },
        "id": "dHiUtT-nZAGl",
        "outputId": "b6c2f186-4a5c-430d-952f-dccf99adce8c"
      },
      "execution_count": 25,
      "outputs": [
        {
          "output_type": "stream",
          "name": "stderr",
          "text": [
            "<ipython-input-25-64fd9245d4fc>:1: FutureWarning: `tokenizer` is deprecated and will be removed in version 5.0.0 for `Trainer.__init__`. Use `processing_class` instead.\n",
            "  trainer = Trainer(\n"
          ]
        }
      ]
    },
    {
      "cell_type": "code",
      "source": [
        "trainer.train()"
      ],
      "metadata": {
        "colab": {
          "base_uri": "https://localhost:8080/",
          "height": 204
        },
        "id": "Nw_ahoB4ZB2a",
        "outputId": "504962fa-8315-4107-d7a4-a4858334d9c3"
      },
      "execution_count": 26,
      "outputs": [
        {
          "output_type": "display_data",
          "data": {
            "text/plain": [
              "<IPython.core.display.HTML object>"
            ],
            "text/html": [
              "\n",
              "    <div>\n",
              "      \n",
              "      <progress value='4980' max='4980' style='width:300px; height:20px; vertical-align: middle;'></progress>\n",
              "      [4980/4980 33:40, Epoch 3/3]\n",
              "    </div>\n",
              "    <table border=\"1\" class=\"dataframe\">\n",
              "  <thead>\n",
              " <tr style=\"text-align: left;\">\n",
              "      <th>Epoch</th>\n",
              "      <th>Training Loss</th>\n",
              "      <th>Validation Loss</th>\n",
              "      <th>F1</th>\n",
              "      <th>Accuracy</th>\n",
              "    </tr>\n",
              "  </thead>\n",
              "  <tbody>\n",
              "    <tr>\n",
              "      <td>1</td>\n",
              "      <td>0.045200</td>\n",
              "      <td>0.038620</td>\n",
              "      <td>0.239460</td>\n",
              "      <td>0.943800</td>\n",
              "    </tr>\n",
              "    <tr>\n",
              "      <td>2</td>\n",
              "      <td>0.034700</td>\n",
              "      <td>0.037022</td>\n",
              "      <td>0.413199</td>\n",
              "      <td>0.948471</td>\n",
              "    </tr>\n",
              "    <tr>\n",
              "      <td>3</td>\n",
              "      <td>0.021700</td>\n",
              "      <td>0.038558</td>\n",
              "      <td>0.496940</td>\n",
              "      <td>0.947265</td>\n",
              "    </tr>\n",
              "  </tbody>\n",
              "</table><p>"
            ]
          },
          "metadata": {}
        },
        {
          "output_type": "execute_result",
          "data": {
            "text/plain": [
              "TrainOutput(global_step=4980, training_loss=0.03761810796806611, metrics={'train_runtime': 2021.3503, 'train_samples_per_second': 39.401, 'train_steps_per_second': 2.464, 'total_flos': 5238945334600704.0, 'train_loss': 0.03761810796806611, 'epoch': 3.0})"
            ]
          },
          "metadata": {},
          "execution_count": 26
        }
      ]
    },
    {
      "cell_type": "code",
      "source": [
        "trainer.evaluate()"
      ],
      "metadata": {
        "colab": {
          "base_uri": "https://localhost:8080/",
          "height": 159
        },
        "id": "NhofPDcnZDPF",
        "outputId": "22f9b07d-d32b-4471-d448-2cd3483c2952"
      },
      "execution_count": 27,
      "outputs": [
        {
          "output_type": "display_data",
          "data": {
            "text/plain": [
              "<IPython.core.display.HTML object>"
            ],
            "text/html": [
              "\n",
              "    <div>\n",
              "      \n",
              "      <progress value='415' max='415' style='width:300px; height:20px; vertical-align: middle;'></progress>\n",
              "      [415/415 00:43]\n",
              "    </div>\n",
              "    "
            ]
          },
          "metadata": {}
        },
        {
          "output_type": "execute_result",
          "data": {
            "text/plain": [
              "{'eval_loss': 0.03855816647410393,\n",
              " 'eval_f1': 0.4969400244798042,\n",
              " 'eval_accuracy': 0.9472653307217116,\n",
              " 'eval_runtime': 44.0715,\n",
              " 'eval_samples_per_second': 150.596,\n",
              " 'eval_steps_per_second': 9.417,\n",
              " 'epoch': 3.0}"
            ]
          },
          "metadata": {},
          "execution_count": 27
        }
      ]
    },
    {
      "cell_type": "code",
      "source": [
        "trainer.save_model(\"/content/drive/My Drive/ColabWork/Outputs/unixcoder_matrix\")\n",
        "tokenizer.save_pretrained(\"/content/drive/My Drive/ColabWork/Outputs/unixcoder_matrix\")"
      ],
      "metadata": {
        "colab": {
          "base_uri": "https://localhost:8080/"
        },
        "id": "ezKB0csEZEn1",
        "outputId": "a5b677de-9933-4208-b43d-e6f18ecad7a9"
      },
      "execution_count": 28,
      "outputs": [
        {
          "output_type": "execute_result",
          "data": {
            "text/plain": [
              "('/content/drive/My Drive/ColabWork/Outputs/unixcoder_matrix/tokenizer_config.json',\n",
              " '/content/drive/My Drive/ColabWork/Outputs/unixcoder_matrix/special_tokens_map.json',\n",
              " '/content/drive/My Drive/ColabWork/Outputs/unixcoder_matrix/vocab.json',\n",
              " '/content/drive/My Drive/ColabWork/Outputs/unixcoder_matrix/merges.txt',\n",
              " '/content/drive/My Drive/ColabWork/Outputs/unixcoder_matrix/added_tokens.json')"
            ]
          },
          "metadata": {},
          "execution_count": 28
        }
      ]
    },
    {
      "cell_type": "code",
      "source": [
        "from sklearn.metrics import confusion_matrix, classification_report\n",
        "\n",
        "predictions, label_ids, _ = trainer.predict(encoded_dataset['test'])\n",
        "preds = torch.sigmoid(torch.tensor(predictions)) > 0.5\n",
        "\n",
        "for i, label in enumerate(labels):\n",
        "  print(f'\\nLabel: {label}')\n",
        "\n",
        "  cm = confusion_matrix(label_ids[:,i], preds[:,i])\n",
        "  print(f'\\nConfusion matrix for {label}')\n",
        "  print(cm)\n",
        "\n",
        "  report = classification_report(label_ids[:,i], preds[:,i], target_names=['Class 0', 'Class 1'], digits = 4)\n",
        "  print(f'\\nClassification report for {label}')\n",
        "  print(report)"
      ],
      "metadata": {
        "colab": {
          "base_uri": "https://localhost:8080/",
          "height": 1000
        },
        "id": "BTBBTLsId60O",
        "outputId": "9c3d0c32-65c4-4aa2-ec35-c8bb0decaeec"
      },
      "execution_count": 32,
      "outputs": [
        {
          "output_type": "display_data",
          "data": {
            "text/plain": [
              "<IPython.core.display.HTML object>"
            ],
            "text/html": []
          },
          "metadata": {}
        },
        {
          "output_type": "stream",
          "name": "stdout",
          "text": [
            "\n",
            "Label: godclass\n",
            "\n",
            "Confusion matrix for godclass\n",
            "[[6444   36]\n",
            " [  77   80]]\n",
            "\n",
            "Classification report for godclass\n",
            "              precision    recall  f1-score   support\n",
            "\n",
            "     Class 0     0.9882    0.9944    0.9913      6480\n",
            "     Class 1     0.6897    0.5096    0.5861       157\n",
            "\n",
            "    accuracy                         0.9830      6637\n",
            "   macro avg     0.8389    0.7520    0.7887      6637\n",
            "weighted avg     0.9811    0.9830    0.9817      6637\n",
            "\n",
            "\n",
            "Label: dataclass\n",
            "\n",
            "Confusion matrix for dataclass\n",
            "[[6507   25]\n",
            " [  55   50]]\n",
            "\n",
            "Classification report for dataclass\n",
            "              precision    recall  f1-score   support\n",
            "\n",
            "     Class 0     0.9916    0.9962    0.9939      6532\n",
            "     Class 1     0.6667    0.4762    0.5556       105\n",
            "\n",
            "    accuracy                         0.9879      6637\n",
            "   macro avg     0.8291    0.7362    0.7747      6637\n",
            "weighted avg     0.9865    0.9879    0.9870      6637\n",
            "\n",
            "\n",
            "Label: featureenvy\n",
            "\n",
            "Confusion matrix for featureenvy\n",
            "[[6534   17]\n",
            " [  74   12]]\n",
            "\n",
            "Classification report for featureenvy\n",
            "              precision    recall  f1-score   support\n",
            "\n",
            "     Class 0     0.9888    0.9974    0.9931      6551\n",
            "     Class 1     0.4138    0.1395    0.2087        86\n",
            "\n",
            "    accuracy                         0.9863      6637\n",
            "   macro avg     0.7013    0.5685    0.6009      6637\n",
            "weighted avg     0.9814    0.9863    0.9829      6637\n",
            "\n",
            "\n",
            "Label: longmethod\n",
            "\n",
            "Confusion matrix for longmethod\n",
            "[[6474   23]\n",
            " [  99   41]]\n",
            "\n",
            "Classification report for longmethod\n",
            "              precision    recall  f1-score   support\n",
            "\n",
            "     Class 0     0.9849    0.9965    0.9907      6497\n",
            "     Class 1     0.6406    0.2929    0.4020       140\n",
            "\n",
            "    accuracy                         0.9816      6637\n",
            "   macro avg     0.8128    0.6447    0.6963      6637\n",
            "weighted avg     0.9777    0.9816    0.9782      6637\n",
            "\n",
            "\n",
            "Label: longparamlist\n",
            "\n",
            "Confusion matrix for longparamlist\n",
            "[[6612    3]\n",
            " [   2   20]]\n",
            "\n",
            "Classification report for longparamlist\n",
            "              precision    recall  f1-score   support\n",
            "\n",
            "     Class 0     0.9997    0.9995    0.9996      6615\n",
            "     Class 1     0.8696    0.9091    0.8889        22\n",
            "\n",
            "    accuracy                         0.9992      6637\n",
            "   macro avg     0.9346    0.9543    0.9443      6637\n",
            "weighted avg     0.9993    0.9992    0.9993      6637\n",
            "\n"
          ]
        }
      ]
    }
  ]
}